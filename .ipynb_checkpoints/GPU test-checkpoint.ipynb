{
 "cells": [
  {
   "cell_type": "code",
   "execution_count": 1,
   "metadata": {},
   "outputs": [
    {
     "name": "stdout",
     "output_type": "stream",
     "text": [
      "Automatically created module for IPython interactive environment\n"
     ]
    },
    {
     "name": "stderr",
     "output_type": "stream",
     "text": [
      "/home/jchu/anaconda3/envs/deeplearning/lib/python3.6/site-packages/h5py/__init__.py:36: FutureWarning: Conversion of the second argument of issubdtype from `float` to `np.floating` is deprecated. In future, it will be treated as `np.float64 == np.dtype(float).type`.\n",
      "  from ._conv import register_converters as _register_converters\n",
      "Using TensorFlow backend.\n"
     ]
    }
   ],
   "source": [
    "print(__doc__)\n",
    "\n",
    "from keras.models import Sequential\n",
    "from keras.layers import Dense, Dropout, Flatten, Embedding, LSTM\n",
    "from keras.optimizers import Adam\n",
    "\n",
    "import itertools\n",
    "import numpy as np\n",
    "import pandas as pd\n",
    "\n",
    "import nltk\n",
    "\n",
    "from sklearn.model_selection import train_test_split\n",
    "from sklearn.metrics import confusion_matrix\n",
    "from sklearn.metrics import f1_score\n",
    "from sklearn.metrics import precision_score\n",
    "from sklearn.metrics import recall_score\n",
    "from sklearn.metrics import accuracy_score\n",
    "from sklearn.metrics import classification_report\n",
    "from sklearn.metrics import confusion_matrix\n",
    "from sklearn.metrics import f1_score\n",
    "from sklearn.metrics import precision_score\n",
    "from sklearn.metrics import recall_score\n",
    "from sklearn.metrics import accuracy_score\n",
    "import matplotlib.pyplot as plt\n",
    "\n",
    "np.random.seed(7)"
   ]
  },
  {
   "cell_type": "code",
   "execution_count": 2,
   "metadata": {},
   "outputs": [
    {
     "name": "stdout",
     "output_type": "stream",
     "text": [
      "[name: \"/device:CPU:0\"\n",
      "device_type: \"CPU\"\n",
      "memory_limit: 268435456\n",
      "locality {\n",
      "}\n",
      "incarnation: 10465907219250378618\n",
      "]\n"
     ]
    }
   ],
   "source": [
    "from tensorflow.python.client import device_lib\n",
    "\n",
    "print(device_lib.list_local_devices())"
   ]
  },
  {
   "cell_type": "code",
   "execution_count": 3,
   "metadata": {},
   "outputs": [
    {
     "data": {
      "text/plain": [
       "[]"
      ]
     },
     "execution_count": 3,
     "metadata": {},
     "output_type": "execute_result"
    }
   ],
   "source": [
    "from keras import backend as K\n",
    "K.tensorflow_backend._get_available_gpus()"
   ]
  },
  {
   "cell_type": "code",
   "execution_count": 4,
   "metadata": {},
   "outputs": [],
   "source": [
    "dfSeventh = pd.read_csv('./textsSeventhgrade.csv')\n",
    "dfEighth = pd.read_csv('./textsEighthgrade.csv')\n",
    "dfNinth = pd.read_csv('./textsNinthgrade.csv')\n",
    "dfTenth = pd.read_csv('./textsTenthGrade.csv')\n",
    "dfEleventh = pd.read_csv('./textsEleventhgrade.csv')"
   ]
  },
  {
   "cell_type": "code",
   "execution_count": 5,
   "metadata": {},
   "outputs": [],
   "source": [
    "groupedSeventh = dfSeventh.groupby('id').apply(lambda x: \"%s\" % ''.join(x['value']))\n",
    "groupedEighth = dfEighth.groupby('id').apply(lambda x: \"%s\" % ''.join(x['value']))\n",
    "groupedNinth = dfNinth.groupby('id').apply(lambda x: \"%s\" % ''.join(x['value']))\n",
    "groupedTenth = dfTenth.groupby('id').apply(lambda x: \"%s\" % ''.join(x['value']))\n",
    "groupedEleventh = dfEleventh.groupby('id').apply(lambda x: \"%s\" % ''.join(x['value']))"
   ]
  },
  {
   "cell_type": "code",
   "execution_count": 6,
   "metadata": {},
   "outputs": [
    {
     "data": {
      "text/plain": [
       "48"
      ]
     },
     "execution_count": 6,
     "metadata": {},
     "output_type": "execute_result"
    }
   ],
   "source": [
    "len(groupedSeventh.values)"
   ]
  },
  {
   "cell_type": "code",
   "execution_count": 7,
   "metadata": {},
   "outputs": [],
   "source": [
    "data = np.concatenate((np.array(groupedSeventh.values),\n",
    "                       np.array(groupedEighth.values),\n",
    "                       np.array(groupedNinth.values),\n",
    "                       np.array(groupedTenth.values),\n",
    "                       np.array(groupedEleventh.values)  )) \n",
    "labels = np.concatenate((np.full(len(groupedSeventh.values), 0),\n",
    "                         np.full(len(groupedEighth.values), 1),\n",
    "                         np.full(len(groupedNinth.values), 2),\n",
    "                         np.full(len(groupedTenth.values), 3),\n",
    "                         np.full(len(groupedEleventh.values), 4)))"
   ]
  },
  {
   "cell_type": "code",
   "execution_count": 8,
   "metadata": {},
   "outputs": [
    {
     "data": {
      "text/plain": [
       "207"
      ]
     },
     "execution_count": 8,
     "metadata": {},
     "output_type": "execute_result"
    }
   ],
   "source": [
    "len(data)"
   ]
  },
  {
   "cell_type": "code",
   "execution_count": 9,
   "metadata": {},
   "outputs": [
    {
     "data": {
      "text/plain": [
       "207"
      ]
     },
     "execution_count": 9,
     "metadata": {},
     "output_type": "execute_result"
    }
   ],
   "source": [
    "len(labels)"
   ]
  },
  {
   "cell_type": "code",
   "execution_count": 10,
   "metadata": {},
   "outputs": [],
   "source": [
    "x_train, x_test, y_train, y_test = train_test_split(data, labels, test_size=0.2, random_state=42)"
   ]
  },
  {
   "cell_type": "markdown",
   "metadata": {},
   "source": [
    "### Load the trained embeddings"
   ]
  },
  {
   "cell_type": "code",
   "execution_count": 11,
   "metadata": {},
   "outputs": [],
   "source": [
    "EMBEDDINGS_DIMESION = 300"
   ]
  },
  {
   "cell_type": "code",
   "execution_count": 12,
   "metadata": {},
   "outputs": [
    {
     "name": "stdout",
     "output_type": "stream",
     "text": [
      "Loaded 1000654 word vectors.\n"
     ]
    }
   ],
   "source": [
    "embeddingsIndex = dict()\n",
    "f = open('./pretrained-word-vectors-for-spanish/SBW-vectors-300-min5.txt')\n",
    "for line in f:\n",
    "    values = line.split()\n",
    "    word = values[0]\n",
    "    coefs = np.asarray(values[1:], dtype='float32')\n",
    "    embeddingsIndex[word] = coefs\n",
    "f.close()\n",
    "print('Loaded %s word vectors.' % len(embeddingsIndex))"
   ]
  },
  {
   "cell_type": "markdown",
   "metadata": {},
   "source": [
    "### Preprocesing the data"
   ]
  },
  {
   "cell_type": "code",
   "execution_count": 13,
   "metadata": {},
   "outputs": [],
   "source": [
    "import keras.preprocessing.text as kpt\n",
    "from keras.preprocessing.text import Tokenizer\n",
    "from keras.preprocessing.sequence import pad_sequences"
   ]
  },
  {
   "cell_type": "code",
   "execution_count": 14,
   "metadata": {},
   "outputs": [],
   "source": [
    "def createEmbedingMatrix(tokenizer, vocabSize):\n",
    "    embeddingMatrix = np.zeros((vocabSize, 300))\n",
    "    for word, i in tokenizer.word_index.items():\n",
    "        embeddingVector = embeddingsIndex.get(word)\n",
    "        if embeddingVector is not None:\n",
    "            embeddingMatrix[i] = embeddingVector\n",
    "    return embeddingMatrix"
   ]
  },
  {
   "cell_type": "code",
   "execution_count": 15,
   "metadata": {},
   "outputs": [],
   "source": [
    "def tokenize(x):\n",
    "    tokenizer = Tokenizer()\n",
    "    tokenizer.fit_on_texts(x)\n",
    "    vocabSize = len(tokenizer.word_index) + 1\n",
    "    encodedData = tokenizer.texts_to_sequences(x)\n",
    "    maxLength = 500\n",
    "    paddedData = pad_sequences(encodedData, maxlen=maxLength, padding='post')\n",
    "    embeddings = createEmbedingMatrix(tokenizer, vocabSize)\n",
    "    \n",
    "    return paddedData"
   ]
  },
  {
   "cell_type": "code",
   "execution_count": 16,
   "metadata": {},
   "outputs": [],
   "source": [
    "def createTrainData(x):\n",
    "    tokenizer = Tokenizer()\n",
    "    tokenizer.fit_on_texts(x)\n",
    "    vocabSize = len(tokenizer.word_index) + 1\n",
    "    encodedData = tokenizer.texts_to_sequences(x)\n",
    "    maxLength = 500\n",
    "    paddedData = pad_sequences(encodedData, maxlen=maxLength, padding='post')\n",
    "    embeddings = createEmbedingMatrix(tokenizer, vocabSize)\n",
    "    \n",
    "    return paddedData, embeddings, maxLength, vocabSize"
   ]
  },
  {
   "cell_type": "code",
   "execution_count": 17,
   "metadata": {},
   "outputs": [],
   "source": [
    "x_train_tokenize, x_train_embeddings, x_train_max_features, x_train_vocab_size  = createTrainData(x_train)\n",
    "x_test_tokenize = tokenize(x_test)"
   ]
  },
  {
   "cell_type": "code",
   "execution_count": 18,
   "metadata": {},
   "outputs": [
    {
     "data": {
      "text/plain": [
       "(13424, 300)"
      ]
     },
     "execution_count": 18,
     "metadata": {},
     "output_type": "execute_result"
    }
   ],
   "source": [
    "x_train_embeddings.shape"
   ]
  },
  {
   "cell_type": "code",
   "execution_count": 19,
   "metadata": {},
   "outputs": [
    {
     "data": {
      "text/plain": [
       "42"
      ]
     },
     "execution_count": 19,
     "metadata": {},
     "output_type": "execute_result"
    }
   ],
   "source": [
    "len(x_test_tokenize)"
   ]
  },
  {
   "cell_type": "code",
   "execution_count": 20,
   "metadata": {},
   "outputs": [
    {
     "data": {
      "text/plain": [
       "165"
      ]
     },
     "execution_count": 20,
     "metadata": {},
     "output_type": "execute_result"
    }
   ],
   "source": [
    "len(x_train_tokenize)"
   ]
  },
  {
   "cell_type": "markdown",
   "metadata": {},
   "source": [
    "### Creating the model"
   ]
  },
  {
   "cell_type": "code",
   "execution_count": 21,
   "metadata": {},
   "outputs": [],
   "source": [
    "def plot_confusion_matrix(cm, classes, normalize=False, title='Confusion matrix', cmap=plt.cm.Blues):\n",
    "    if normalize:\n",
    "        cm = cm.astype('float') / cm.sum(axis=1)[:, np.newaxis]\n",
    "        print(\"Normalized confusion matrix\")\n",
    "    else:\n",
    "        print('Confusion matrix, without normalization')\n",
    " \n",
    "    print(cm)\n",
    " \n",
    "    plt.imshow(cm, interpolation='nearest', cmap=cmap)\n",
    "    plt.title(title)\n",
    "    plt.colorbar()\n",
    "    tick_marks = np.arange(len(classes))\n",
    "    plt.xticks(tick_marks, classes, rotation=45)\n",
    "    plt.yticks(tick_marks, classes)\n",
    " \n",
    "    fmt = '.2f' if normalize else 'd'\n",
    "    thresh = cm.max() / 2.\n",
    "    for i, j in itertools.product(range(cm.shape[0]), range(cm.shape[1])):\n",
    "        plt.text(j, i, format(cm[i, j], fmt),\n",
    "                 horizontalalignment=\"center\",\n",
    "                 color=\"white\" if cm[i, j] > thresh else \"black\")\n",
    " \n",
    "    plt.tight_layout()\n",
    "    plt.ylabel('True label')\n",
    "    plt.xlabel('Predicted label')"
   ]
  },
  {
   "cell_type": "code",
   "execution_count": 22,
   "metadata": {},
   "outputs": [],
   "source": [
    "def testModels(paramsArr):\n",
    "    resultMetrics = list();\n",
    "    resultPredict = list();\n",
    "    \n",
    "    for params in paramsArr:\n",
    "        batch_size = params[0]\n",
    "        numOfCells = params[1]\n",
    "        epochs = params[2]\n",
    "        # Model definition\n",
    "        model = Sequential()\n",
    "        adam = Adam(lr=0.001)\n",
    "        embeddingLayer = Embedding(x_train_vocab_size,\n",
    "                                   EMBEDDINGS_DIMESION,\n",
    "                                   weights=[x_train_embeddings],\n",
    "                                   input_length=x_train_max_features,\n",
    "                                   trainable=False)\n",
    "        model.add(embeddingLayer)\n",
    "        model.add(LSTM(numOfCells))\n",
    "        model.add(Dropout(0.1))\n",
    "        model.add(Dense(5, activation='softmax'))\n",
    "        model.compile(loss='sparse_categorical_crossentropy', optimizer=adam)\n",
    "        # Model Train\n",
    "        model.fit(x_train_tokenize, y_train, epochs=epochs, batch_size=batch_size)\n",
    "        # Model Prediction\n",
    "        y_predict = model.predict(x_test_tokenize)\n",
    "        y = np.argmax(y_predict, axis=1)\n",
    "        # Metrics calculation\n",
    "        f1_result_score = f1_score(y_test, y, average='macro')\n",
    "        precision_result_score = precision_score(y_test, y, average='macro')\n",
    "        recall_result_score = recall_score(y_test, y, average='macro')\n",
    "        accuracy_result_score = accuracy_score(y_test, y)\n",
    "        resultPredict.append(y)\n",
    "        resultMetrics.append([f1_result_score, precision_result_score, recall_result_score, accuracy_result_score])\n",
    "\n",
    "    return resultMetrics, resultPredict"
   ]
  },
  {
   "cell_type": "code",
   "execution_count": 23,
   "metadata": {},
   "outputs": [],
   "source": [
    "testParams = [\n",
    "  [22, 100, 10],\n",
    "  [32, 4, 10],\n",
    "  [64, 16, 20],\n",
    "  [32, 16, 20],\n",
    "  [64, 32, 30],\n",
    "  [64, 100, 30],\n",
    "  [32, 32, 30],\n",
    "  [64, 64, 40],\n",
    "  [64, 64, 40],\n",
    "]"
   ]
  },
  {
   "cell_type": "code",
   "execution_count": 24,
   "metadata": {},
   "outputs": [],
   "source": [
    "testParams2 = [\n",
    "  [32, 16, 20],\n",
    "  [32, 32, 20],\n",
    "  [32, 64, 20],\n",
    "  [32, 128, 20],\n",
    "  [32, 256, 20],\n",
    "  [64, 64, 40],\n",
    "  [64, 128, 40],\n",
    "  [64, 256, 40],\n",
    "]"
   ]
  },
  {
   "cell_type": "code",
   "execution_count": 25,
   "metadata": {
    "scrolled": true
   },
   "outputs": [
    {
     "name": "stdout",
     "output_type": "stream",
     "text": [
      "Epoch 1/20\n",
      "165/165 [==============================] - 2s 10ms/step - loss: 1.6033\n",
      "Epoch 2/20\n",
      "165/165 [==============================] - 1s 7ms/step - loss: 1.5914\n",
      "Epoch 3/20\n",
      "165/165 [==============================] - 1s 7ms/step - loss: 1.5798\n",
      "Epoch 4/20\n",
      "165/165 [==============================] - 1s 7ms/step - loss: 1.5698\n",
      "Epoch 5/20\n",
      "165/165 [==============================] - 1s 7ms/step - loss: 1.5590\n",
      "Epoch 6/20\n",
      "165/165 [==============================] - 1s 7ms/step - loss: 1.5463\n",
      "Epoch 7/20\n",
      "165/165 [==============================] - 1s 7ms/step - loss: 1.5366\n",
      "Epoch 8/20\n",
      "165/165 [==============================] - 1s 7ms/step - loss: 1.5229\n",
      "Epoch 9/20\n",
      "165/165 [==============================] - 1s 7ms/step - loss: 1.5082\n",
      "Epoch 10/20\n",
      "165/165 [==============================] - 1s 7ms/step - loss: 1.4928\n",
      "Epoch 11/20\n",
      "165/165 [==============================] - 1s 7ms/step - loss: 1.4754\n",
      "Epoch 12/20\n",
      "165/165 [==============================] - 1s 7ms/step - loss: 1.4549\n",
      "Epoch 13/20\n",
      "165/165 [==============================] - 1s 7ms/step - loss: 1.4341\n",
      "Epoch 14/20\n",
      "165/165 [==============================] - 1s 7ms/step - loss: 1.4166\n",
      "Epoch 15/20\n",
      "165/165 [==============================] - 1s 7ms/step - loss: 1.4156\n",
      "Epoch 16/20\n",
      "165/165 [==============================] - 1s 7ms/step - loss: 1.3937\n",
      "Epoch 17/20\n",
      "165/165 [==============================] - 1s 7ms/step - loss: 1.3773\n",
      "Epoch 18/20\n",
      "165/165 [==============================] - 1s 7ms/step - loss: 1.3820\n",
      "Epoch 19/20\n",
      "165/165 [==============================] - 1s 7ms/step - loss: 1.3810\n",
      "Epoch 20/20\n",
      "165/165 [==============================] - 1s 7ms/step - loss: 1.3609\n"
     ]
    },
    {
     "name": "stderr",
     "output_type": "stream",
     "text": [
      "/home/jchu/anaconda3/envs/deeplearning/lib/python3.6/site-packages/sklearn/metrics/classification.py:1135: UndefinedMetricWarning: F-score is ill-defined and being set to 0.0 in labels with no predicted samples.\n",
      "  'precision', 'predicted', average, warn_for)\n",
      "/home/jchu/anaconda3/envs/deeplearning/lib/python3.6/site-packages/sklearn/metrics/classification.py:1135: UndefinedMetricWarning: Precision is ill-defined and being set to 0.0 in labels with no predicted samples.\n",
      "  'precision', 'predicted', average, warn_for)\n"
     ]
    },
    {
     "name": "stdout",
     "output_type": "stream",
     "text": [
      "Epoch 1/20\n",
      "165/165 [==============================] - 2s 10ms/step - loss: 1.6088\n",
      "Epoch 2/20\n",
      "165/165 [==============================] - 1s 7ms/step - loss: 1.5951\n",
      "Epoch 3/20\n",
      "165/165 [==============================] - 1s 7ms/step - loss: 1.5842\n",
      "Epoch 4/20\n",
      "165/165 [==============================] - 1s 7ms/step - loss: 1.5727\n",
      "Epoch 5/20\n",
      "165/165 [==============================] - 1s 7ms/step - loss: 1.5564\n",
      "Epoch 6/20\n",
      "165/165 [==============================] - 1s 7ms/step - loss: 1.5423\n",
      "Epoch 7/20\n",
      "165/165 [==============================] - 1s 7ms/step - loss: 1.5234\n",
      "Epoch 8/20\n",
      "165/165 [==============================] - 1s 7ms/step - loss: 1.4989\n",
      "Epoch 9/20\n",
      "165/165 [==============================] - 1s 7ms/step - loss: 1.4792\n",
      "Epoch 10/20\n",
      "165/165 [==============================] - 1s 7ms/step - loss: 1.4592\n",
      "Epoch 11/20\n",
      "165/165 [==============================] - 1s 7ms/step - loss: 1.4460\n",
      "Epoch 12/20\n",
      "165/165 [==============================] - 1s 7ms/step - loss: 1.4392\n",
      "Epoch 13/20\n",
      "165/165 [==============================] - 1s 7ms/step - loss: 1.4123\n",
      "Epoch 14/20\n",
      "165/165 [==============================] - 1s 7ms/step - loss: 1.3832\n",
      "Epoch 15/20\n",
      "165/165 [==============================] - 1s 7ms/step - loss: 1.3755\n",
      "Epoch 16/20\n",
      "165/165 [==============================] - 1s 7ms/step - loss: 1.3604\n",
      "Epoch 17/20\n",
      "165/165 [==============================] - 1s 7ms/step - loss: 1.3475\n",
      "Epoch 18/20\n",
      "165/165 [==============================] - 1s 7ms/step - loss: 1.3326\n",
      "Epoch 19/20\n",
      "165/165 [==============================] - 1s 7ms/step - loss: 1.3236\n",
      "Epoch 20/20\n",
      "165/165 [==============================] - 1s 7ms/step - loss: 1.3041\n",
      "Epoch 1/20\n",
      "165/165 [==============================] - 2s 11ms/step - loss: 1.6078\n",
      "Epoch 2/20\n",
      "165/165 [==============================] - 1s 8ms/step - loss: 1.5777\n",
      "Epoch 3/20\n",
      "165/165 [==============================] - 1s 8ms/step - loss: 1.5531\n",
      "Epoch 4/20\n",
      "165/165 [==============================] - 1s 8ms/step - loss: 1.5254\n",
      "Epoch 5/20\n",
      "165/165 [==============================] - 1s 8ms/step - loss: 1.4875\n",
      "Epoch 6/20\n",
      "165/165 [==============================] - 1s 8ms/step - loss: 1.4524\n",
      "Epoch 7/20\n",
      "165/165 [==============================] - 1s 8ms/step - loss: 1.4021\n",
      "Epoch 8/20\n",
      "165/165 [==============================] - 1s 8ms/step - loss: 1.3948\n",
      "Epoch 9/20\n",
      "165/165 [==============================] - 1s 8ms/step - loss: 1.3891\n",
      "Epoch 10/20\n",
      "165/165 [==============================] - 1s 8ms/step - loss: 1.3686\n",
      "Epoch 11/20\n",
      "165/165 [==============================] - 1s 8ms/step - loss: 1.3508\n",
      "Epoch 12/20\n",
      "165/165 [==============================] - 1s 8ms/step - loss: 1.3357\n",
      "Epoch 13/20\n",
      "165/165 [==============================] - 1s 8ms/step - loss: 1.3291\n",
      "Epoch 14/20\n",
      "165/165 [==============================] - 1s 8ms/step - loss: 1.3016\n",
      "Epoch 15/20\n",
      "165/165 [==============================] - 1s 8ms/step - loss: 1.2946\n",
      "Epoch 16/20\n",
      "165/165 [==============================] - 1s 8ms/step - loss: 1.2710\n",
      "Epoch 17/20\n",
      "165/165 [==============================] - 1s 8ms/step - loss: 1.2572\n",
      "Epoch 18/20\n",
      "165/165 [==============================] - 1s 8ms/step - loss: 1.2429\n",
      "Epoch 19/20\n",
      "165/165 [==============================] - 1s 8ms/step - loss: 1.2285\n",
      "Epoch 20/20\n",
      "165/165 [==============================] - 1s 8ms/step - loss: 1.2212\n",
      "Epoch 1/20\n",
      "165/165 [==============================] - 3s 15ms/step - loss: 1.6087\n",
      "Epoch 2/20\n",
      "165/165 [==============================] - 2s 11ms/step - loss: 1.5610\n",
      "Epoch 3/20\n",
      "165/165 [==============================] - 2s 11ms/step - loss: 1.5311\n",
      "Epoch 4/20\n",
      "165/165 [==============================] - 2s 11ms/step - loss: 1.4763\n",
      "Epoch 5/20\n",
      "165/165 [==============================] - 2s 11ms/step - loss: 1.4297\n",
      "Epoch 6/20\n",
      "165/165 [==============================] - 2s 11ms/step - loss: 1.3985\n",
      "Epoch 7/20\n",
      "165/165 [==============================] - 2s 11ms/step - loss: 1.3997\n",
      "Epoch 8/20\n",
      "165/165 [==============================] - 2s 11ms/step - loss: 1.3588\n",
      "Epoch 9/20\n",
      "165/165 [==============================] - 2s 11ms/step - loss: 1.3481\n",
      "Epoch 10/20\n",
      "165/165 [==============================] - 2s 11ms/step - loss: 1.3847\n",
      "Epoch 11/20\n",
      "165/165 [==============================] - 2s 11ms/step - loss: 1.3766\n",
      "Epoch 12/20\n",
      "165/165 [==============================] - 2s 11ms/step - loss: 1.3326\n",
      "Epoch 13/20\n",
      "165/165 [==============================] - 2s 11ms/step - loss: 1.3306\n",
      "Epoch 14/20\n",
      "165/165 [==============================] - 2s 11ms/step - loss: 1.2829\n",
      "Epoch 15/20\n",
      "165/165 [==============================] - 2s 11ms/step - loss: 1.2824\n",
      "Epoch 16/20\n",
      "165/165 [==============================] - 2s 11ms/step - loss: 1.2555\n",
      "Epoch 17/20\n",
      "165/165 [==============================] - 2s 11ms/step - loss: 1.2025\n",
      "Epoch 18/20\n",
      "165/165 [==============================] - 2s 11ms/step - loss: 1.2588\n",
      "Epoch 19/20\n",
      "165/165 [==============================] - 2s 11ms/step - loss: 1.2457\n",
      "Epoch 20/20\n",
      "165/165 [==============================] - 2s 11ms/step - loss: 1.2378\n",
      "Epoch 1/20\n",
      "165/165 [==============================] - 4s 24ms/step - loss: 1.5963\n",
      "Epoch 2/20\n",
      "165/165 [==============================] - 3s 19ms/step - loss: 1.5489\n",
      "Epoch 3/20\n",
      "165/165 [==============================] - 3s 19ms/step - loss: 1.4920\n",
      "Epoch 4/20\n",
      "165/165 [==============================] - 3s 19ms/step - loss: 1.4271\n",
      "Epoch 5/20\n",
      "165/165 [==============================] - 3s 19ms/step - loss: 1.3917\n",
      "Epoch 6/20\n",
      "165/165 [==============================] - 3s 19ms/step - loss: 1.3923\n",
      "Epoch 7/20\n",
      "165/165 [==============================] - 3s 19ms/step - loss: 1.3473\n",
      "Epoch 8/20\n",
      "165/165 [==============================] - 3s 19ms/step - loss: 1.3359\n",
      "Epoch 9/20\n",
      "165/165 [==============================] - 3s 19ms/step - loss: 1.3625\n",
      "Epoch 10/20\n",
      "165/165 [==============================] - 3s 19ms/step - loss: 1.2977\n",
      "Epoch 11/20\n",
      "165/165 [==============================] - 3s 19ms/step - loss: 1.3080\n",
      "Epoch 12/20\n",
      "165/165 [==============================] - 3s 19ms/step - loss: 1.2908\n",
      "Epoch 13/20\n",
      "165/165 [==============================] - 3s 19ms/step - loss: 1.2562\n",
      "Epoch 14/20\n",
      "165/165 [==============================] - 3s 19ms/step - loss: 1.2210\n",
      "Epoch 15/20\n",
      "165/165 [==============================] - 3s 19ms/step - loss: 1.3439\n",
      "Epoch 16/20\n",
      "165/165 [==============================] - 3s 19ms/step - loss: 1.3390\n",
      "Epoch 17/20\n",
      "165/165 [==============================] - 3s 19ms/step - loss: 1.3288\n",
      "Epoch 18/20\n",
      "165/165 [==============================] - 3s 19ms/step - loss: 1.2884\n",
      "Epoch 19/20\n",
      "165/165 [==============================] - 3s 19ms/step - loss: 1.2985\n",
      "Epoch 20/20\n",
      "165/165 [==============================] - 3s 19ms/step - loss: 1.2523\n",
      "Epoch 1/40\n",
      "165/165 [==============================] - 2s 10ms/step - loss: 1.6069\n",
      "Epoch 2/40\n",
      "165/165 [==============================] - 1s 5ms/step - loss: 1.5937\n",
      "Epoch 3/40\n",
      "165/165 [==============================] - 1s 5ms/step - loss: 1.5793\n",
      "Epoch 4/40\n",
      "165/165 [==============================] - 1s 5ms/step - loss: 1.5627\n",
      "Epoch 5/40\n",
      "165/165 [==============================] - 1s 5ms/step - loss: 1.5479\n",
      "Epoch 6/40\n",
      "165/165 [==============================] - 1s 5ms/step - loss: 1.5303\n",
      "Epoch 7/40\n",
      "165/165 [==============================] - 1s 5ms/step - loss: 1.5106\n",
      "Epoch 8/40\n",
      "165/165 [==============================] - 1s 5ms/step - loss: 1.4854\n",
      "Epoch 9/40\n",
      "165/165 [==============================] - 1s 5ms/step - loss: 1.4643\n",
      "Epoch 10/40\n",
      "165/165 [==============================] - 1s 5ms/step - loss: 1.4307\n",
      "Epoch 11/40\n",
      "165/165 [==============================] - 1s 5ms/step - loss: 1.4045\n",
      "Epoch 12/40\n",
      "165/165 [==============================] - 1s 5ms/step - loss: 1.3841\n",
      "Epoch 13/40\n",
      "165/165 [==============================] - 1s 5ms/step - loss: 1.3618\n",
      "Epoch 14/40\n",
      "165/165 [==============================] - 1s 5ms/step - loss: 1.3419\n",
      "Epoch 15/40\n",
      "165/165 [==============================] - 1s 5ms/step - loss: 1.3302\n",
      "Epoch 16/40\n",
      "165/165 [==============================] - 1s 5ms/step - loss: 1.3172\n",
      "Epoch 17/40\n",
      "165/165 [==============================] - 1s 5ms/step - loss: 1.2935\n",
      "Epoch 18/40\n",
      "165/165 [==============================] - 1s 5ms/step - loss: 1.2675\n",
      "Epoch 19/40\n",
      "165/165 [==============================] - 1s 5ms/step - loss: 1.2472\n",
      "Epoch 20/40\n"
     ]
    },
    {
     "name": "stdout",
     "output_type": "stream",
     "text": [
      "165/165 [==============================] - 1s 5ms/step - loss: 1.2547\n",
      "Epoch 21/40\n",
      "165/165 [==============================] - 1s 5ms/step - loss: 1.2422\n",
      "Epoch 22/40\n",
      "165/165 [==============================] - 1s 5ms/step - loss: 1.2320\n",
      "Epoch 23/40\n",
      "165/165 [==============================] - 1s 5ms/step - loss: 1.2094\n",
      "Epoch 24/40\n",
      "165/165 [==============================] - 1s 5ms/step - loss: 1.1843\n",
      "Epoch 25/40\n",
      "165/165 [==============================] - 1s 5ms/step - loss: 1.3176\n",
      "Epoch 26/40\n",
      "165/165 [==============================] - 1s 5ms/step - loss: 1.2556\n",
      "Epoch 27/40\n",
      "165/165 [==============================] - 1s 5ms/step - loss: 1.2646\n",
      "Epoch 28/40\n",
      "165/165 [==============================] - 1s 5ms/step - loss: 1.2632\n",
      "Epoch 29/40\n",
      "165/165 [==============================] - 1s 5ms/step - loss: 1.2487\n",
      "Epoch 30/40\n",
      "165/165 [==============================] - 1s 5ms/step - loss: 1.2180\n",
      "Epoch 31/40\n",
      "165/165 [==============================] - 1s 5ms/step - loss: 1.1972\n",
      "Epoch 32/40\n",
      "165/165 [==============================] - 1s 5ms/step - loss: 1.1761\n",
      "Epoch 33/40\n",
      "165/165 [==============================] - 1s 5ms/step - loss: 1.1622\n",
      "Epoch 34/40\n",
      "165/165 [==============================] - 1s 5ms/step - loss: 1.1763\n",
      "Epoch 35/40\n",
      "165/165 [==============================] - 1s 5ms/step - loss: 1.2662\n",
      "Epoch 36/40\n",
      "165/165 [==============================] - 1s 5ms/step - loss: 1.2137\n",
      "Epoch 37/40\n",
      "165/165 [==============================] - 1s 5ms/step - loss: 1.2179\n",
      "Epoch 38/40\n",
      "165/165 [==============================] - 1s 5ms/step - loss: 1.2049\n",
      "Epoch 39/40\n",
      "165/165 [==============================] - 1s 5ms/step - loss: 1.1964\n",
      "Epoch 40/40\n",
      "165/165 [==============================] - 1s 5ms/step - loss: 1.1823\n",
      "Epoch 1/40\n",
      "165/165 [==============================] - 2s 13ms/step - loss: 1.6069\n",
      "Epoch 2/40\n",
      "165/165 [==============================] - 1s 8ms/step - loss: 1.5860\n",
      "Epoch 3/40\n",
      "165/165 [==============================] - 1s 8ms/step - loss: 1.5616\n",
      "Epoch 4/40\n",
      "165/165 [==============================] - 1s 8ms/step - loss: 1.5319\n",
      "Epoch 5/40\n",
      "165/165 [==============================] - 1s 8ms/step - loss: 1.5017\n",
      "Epoch 6/40\n",
      "165/165 [==============================] - 1s 8ms/step - loss: 1.4825\n",
      "Epoch 7/40\n",
      "165/165 [==============================] - 1s 8ms/step - loss: 1.4447\n",
      "Epoch 8/40\n",
      "165/165 [==============================] - 1s 8ms/step - loss: 1.4192\n",
      "Epoch 9/40\n",
      "165/165 [==============================] - 1s 8ms/step - loss: 1.3778\n",
      "Epoch 10/40\n",
      "165/165 [==============================] - 1s 8ms/step - loss: 1.3605\n",
      "Epoch 11/40\n",
      "165/165 [==============================] - 1s 8ms/step - loss: 1.3397\n",
      "Epoch 12/40\n",
      "165/165 [==============================] - 1s 8ms/step - loss: 1.3174\n",
      "Epoch 13/40\n",
      "165/165 [==============================] - 1s 8ms/step - loss: 1.2900\n",
      "Epoch 14/40\n",
      "165/165 [==============================] - 1s 8ms/step - loss: 1.2645\n",
      "Epoch 15/40\n",
      "165/165 [==============================] - 1s 8ms/step - loss: 1.2288\n",
      "Epoch 16/40\n",
      "165/165 [==============================] - 1s 8ms/step - loss: 1.2589\n",
      "Epoch 17/40\n",
      "165/165 [==============================] - 1s 8ms/step - loss: 1.2310\n",
      "Epoch 18/40\n",
      "165/165 [==============================] - 1s 8ms/step - loss: 1.2119\n",
      "Epoch 19/40\n",
      "165/165 [==============================] - 1s 8ms/step - loss: 1.1823\n",
      "Epoch 20/40\n",
      "165/165 [==============================] - 1s 8ms/step - loss: 1.3231\n",
      "Epoch 21/40\n",
      "165/165 [==============================] - 1s 8ms/step - loss: 1.1773\n",
      "Epoch 22/40\n",
      "165/165 [==============================] - 1s 8ms/step - loss: 1.2001\n",
      "Epoch 23/40\n",
      "165/165 [==============================] - 1s 8ms/step - loss: 1.1876\n",
      "Epoch 24/40\n",
      "165/165 [==============================] - 1s 8ms/step - loss: 1.1569\n",
      "Epoch 25/40\n",
      "165/165 [==============================] - 1s 8ms/step - loss: 1.1755\n",
      "Epoch 26/40\n",
      "165/165 [==============================] - 1s 8ms/step - loss: 1.1601\n",
      "Epoch 27/40\n",
      "165/165 [==============================] - 1s 8ms/step - loss: 1.1449\n",
      "Epoch 28/40\n",
      "165/165 [==============================] - 1s 8ms/step - loss: 1.1098\n",
      "Epoch 29/40\n",
      "165/165 [==============================] - 1s 8ms/step - loss: 1.1290\n",
      "Epoch 30/40\n",
      "165/165 [==============================] - 1s 8ms/step - loss: 1.0913\n",
      "Epoch 31/40\n",
      "165/165 [==============================] - 1s 8ms/step - loss: 1.0926\n",
      "Epoch 32/40\n",
      "165/165 [==============================] - 1s 8ms/step - loss: 1.0974\n",
      "Epoch 33/40\n",
      "165/165 [==============================] - 1s 8ms/step - loss: 1.0782\n",
      "Epoch 34/40\n",
      "165/165 [==============================] - 1s 8ms/step - loss: 1.0892\n",
      "Epoch 35/40\n",
      "165/165 [==============================] - 1s 8ms/step - loss: 1.0569\n",
      "Epoch 36/40\n",
      "165/165 [==============================] - 1s 8ms/step - loss: 1.0133\n",
      "Epoch 37/40\n",
      "165/165 [==============================] - 1s 8ms/step - loss: 1.0271\n",
      "Epoch 38/40\n",
      "165/165 [==============================] - 1s 8ms/step - loss: 1.0816\n",
      "Epoch 39/40\n",
      "165/165 [==============================] - 1s 8ms/step - loss: 1.0262\n",
      "Epoch 40/40\n",
      "165/165 [==============================] - 1s 8ms/step - loss: 1.0163\n",
      "Epoch 1/40\n",
      "165/165 [==============================] - 3s 21ms/step - loss: 1.6031\n",
      "Epoch 2/40\n",
      "165/165 [==============================] - 3s 16ms/step - loss: 1.5640\n",
      "Epoch 3/40\n",
      "165/165 [==============================] - 3s 16ms/step - loss: 1.5325\n",
      "Epoch 4/40\n",
      "165/165 [==============================] - 3s 16ms/step - loss: 1.4822\n",
      "Epoch 5/40\n",
      "165/165 [==============================] - 3s 15ms/step - loss: 1.4579\n",
      "Epoch 6/40\n",
      "165/165 [==============================] - 3s 16ms/step - loss: 1.4078\n",
      "Epoch 7/40\n",
      "165/165 [==============================] - 3s 16ms/step - loss: 1.3906\n",
      "Epoch 8/40\n",
      "165/165 [==============================] - 3s 16ms/step - loss: 1.3815\n",
      "Epoch 9/40\n",
      "165/165 [==============================] - 3s 16ms/step - loss: 1.3580\n",
      "Epoch 10/40\n",
      "165/165 [==============================] - 3s 16ms/step - loss: 1.3209\n",
      "Epoch 11/40\n",
      "165/165 [==============================] - 3s 16ms/step - loss: 1.3319\n",
      "Epoch 12/40\n",
      "165/165 [==============================] - 3s 16ms/step - loss: 1.3257\n",
      "Epoch 13/40\n",
      "165/165 [==============================] - 3s 16ms/step - loss: 1.3085\n",
      "Epoch 14/40\n",
      "165/165 [==============================] - 3s 16ms/step - loss: 1.2854\n",
      "Epoch 15/40\n",
      "165/165 [==============================] - 3s 16ms/step - loss: 1.3755\n",
      "Epoch 16/40\n",
      "165/165 [==============================] - 3s 17ms/step - loss: 1.2777\n",
      "Epoch 17/40\n",
      "165/165 [==============================] - 3s 16ms/step - loss: 1.2728\n",
      "Epoch 18/40\n",
      "165/165 [==============================] - 3s 16ms/step - loss: 1.2464\n",
      "Epoch 19/40\n",
      "165/165 [==============================] - 3s 17ms/step - loss: 1.2187\n",
      "Epoch 20/40\n",
      "165/165 [==============================] - 3s 17ms/step - loss: 1.2195\n",
      "Epoch 21/40\n",
      "165/165 [==============================] - 3s 17ms/step - loss: 1.2116\n",
      "Epoch 22/40\n",
      "165/165 [==============================] - 3s 17ms/step - loss: 1.1767\n",
      "Epoch 23/40\n",
      "165/165 [==============================] - 3s 17ms/step - loss: 1.1441\n",
      "Epoch 24/40\n",
      "165/165 [==============================] - 3s 17ms/step - loss: 1.1354\n",
      "Epoch 25/40\n",
      "165/165 [==============================] - 3s 17ms/step - loss: 1.1060\n",
      "Epoch 26/40\n",
      "165/165 [==============================] - 3s 17ms/step - loss: 1.0731\n",
      "Epoch 27/40\n",
      "165/165 [==============================] - 3s 17ms/step - loss: 1.1464\n",
      "Epoch 28/40\n",
      "165/165 [==============================] - 3s 17ms/step - loss: 1.1332\n",
      "Epoch 29/40\n",
      "165/165 [==============================] - 3s 17ms/step - loss: 1.0938\n",
      "Epoch 30/40\n",
      "165/165 [==============================] - 3s 17ms/step - loss: 1.0687\n",
      "Epoch 31/40\n",
      "165/165 [==============================] - 3s 17ms/step - loss: 1.0404\n",
      "Epoch 32/40\n",
      "165/165 [==============================] - 3s 17ms/step - loss: 1.0398\n",
      "Epoch 33/40\n",
      "165/165 [==============================] - 3s 17ms/step - loss: 1.0022\n",
      "Epoch 34/40\n",
      "165/165 [==============================] - 3s 17ms/step - loss: 1.0031\n",
      "Epoch 35/40\n",
      "165/165 [==============================] - 3s 17ms/step - loss: 1.0263\n",
      "Epoch 36/40\n",
      "165/165 [==============================] - 3s 17ms/step - loss: 0.9933\n",
      "Epoch 37/40\n",
      "165/165 [==============================] - 3s 17ms/step - loss: 0.9732\n",
      "Epoch 38/40\n",
      "165/165 [==============================] - 3s 17ms/step - loss: 0.9546\n",
      "Epoch 39/40\n"
     ]
    },
    {
     "name": "stdout",
     "output_type": "stream",
     "text": [
      "165/165 [==============================] - 3s 17ms/step - loss: 0.9451\n",
      "Epoch 40/40\n",
      "165/165 [==============================] - 3s 17ms/step - loss: 0.9370\n"
     ]
    }
   ],
   "source": [
    "metrics, predictions = testModels(testParams2)"
   ]
  },
  {
   "cell_type": "code",
   "execution_count": 26,
   "metadata": {},
   "outputs": [],
   "source": [
    "CLASSES = [\"Seventh Grade\", \"Eighth Grade\", \"Ninth grade\", \"Tenth grade\", \"Eleven grade\"]"
   ]
  },
  {
   "cell_type": "code",
   "execution_count": 27,
   "metadata": {},
   "outputs": [],
   "source": [
    "confusionMatrixs = list()\n",
    "\n",
    "for prediction in predictions:\n",
    "    confusionMatrix = confusion_matrix(y_test, prediction)\n",
    "    np.set_printoptions(precision=2)\n",
    "    confusionMatrixs.append(confusionMatrix)"
   ]
  },
  {
   "cell_type": "code",
   "execution_count": 28,
   "metadata": {},
   "outputs": [
    {
     "data": {
      "text/plain": [
       "8"
      ]
     },
     "execution_count": 28,
     "metadata": {},
     "output_type": "execute_result"
    }
   ],
   "source": [
    "len(confusionMatrixs)"
   ]
  },
  {
   "cell_type": "code",
   "execution_count": 35,
   "metadata": {
    "collapsed": true
   },
   "outputs": [],
   "source": [
    "CLASSES = [\"Seventh Grade\", \"Eighth Grade\", \"Ninth grade\", \"Tenth grade\", \"Eleven grade\"]"
   ]
  },
  {
   "cell_type": "code",
   "execution_count": 29,
   "metadata": {},
   "outputs": [
    {
     "data": {
      "text/plain": [
       "8"
      ]
     },
     "execution_count": 29,
     "metadata": {},
     "output_type": "execute_result"
    }
   ],
   "source": [
    "confusionMatrixs = list()\n",
    "\n",
    "for prediction in predictions:\n",
    "    confusionMatrix = confusion_matrix(y_test, prediction)\n",
    "    np.set_printoptions(precision=2)\n",
    "    confusionMatrixs.append(confusionMatrix)\n",
    "\n",
    "len(confusionMatrixs)"
   ]
  },
  {
   "cell_type": "code",
   "execution_count": 30,
   "metadata": {},
   "outputs": [
    {
     "data": {
      "text/plain": [
       "[[0.14205128205128206,\n",
       "  0.10153846153846154,\n",
       "  0.2430769230769231,\n",
       "  0.2619047619047619],\n",
       " [0.17660256410256409,\n",
       "  0.17980952380952378,\n",
       "  0.2887179487179487,\n",
       "  0.23809523809523808],\n",
       " [0.3410353535353535,\n",
       "  0.43933333333333335,\n",
       "  0.4071328671328671,\n",
       "  0.35714285714285715],\n",
       " [0.1706168831168831, 0.2935, 0.3153846153846154, 0.2619047619047619],\n",
       " [0.2271825396825397,\n",
       "  0.3688205128205128,\n",
       "  0.3687179487179487,\n",
       "  0.2857142857142857],\n",
       " [0.20273809523809527,\n",
       "  0.5004444444444445,\n",
       "  0.3002331002331002,\n",
       "  0.2619047619047619],\n",
       " [0.24242063492063495,\n",
       "  0.4171111111111111,\n",
       "  0.34023310023310016,\n",
       "  0.2857142857142857],\n",
       " [0.1761524749760044,\n",
       "  0.21685185185185185,\n",
       "  0.2887179487179487,\n",
       "  0.23809523809523808]]"
      ]
     },
     "execution_count": 30,
     "metadata": {},
     "output_type": "execute_result"
    }
   ],
   "source": [
    "metrics"
   ]
  },
  {
   "cell_type": "code",
   "execution_count": 42,
   "metadata": {},
   "outputs": [],
   "source": [
    "def plotMatrix(cmm, metricsR):\n",
    "    plot_title = 'Confusion matrix of RNN'\n",
    "    print(\"f1_result_score, precision_result_score, recall_result_score, accuracy_result_score\")\n",
    "    print(metricsR)\n",
    "    plt.figure()\n",
    "    plot_confusion_matrix(cmm, classes=CLASSES, title=plot_title)"
   ]
  },
  {
   "cell_type": "code",
   "execution_count": 43,
   "metadata": {},
   "outputs": [
    {
     "name": "stdout",
     "output_type": "stream",
     "text": [
      "f1_result_score, precision_result_score, recall_result_score, accuracy_result_score\n",
      "[0.14205128205128206, 0.10153846153846154, 0.2430769230769231, 0.2619047619047619]\n",
      "Confusion matrix, without normalization\n",
      "[[0 7 0 0 0]\n",
      " [0 8 1 0 4]\n",
      " [0 3 0 0 3]\n",
      " [0 6 0 0 5]\n",
      " [0 2 0 0 3]]\n"
     ]
    },
    {
     "data": {
      "image/png": "[encoded data removed]",
      "text/plain": [
       "<matplotlib.figure.Figure at 0x7fcaa5a6c0f0>"
      ]
     },
     "metadata": {},
     "output_type": "display_data"
    }
   ],
   "source": [
    "plotMatrix(confusionMatrixs[0], metrics[0])"
   ]
  },
  {
   "cell_type": "code",
   "execution_count": 32,
   "metadata": {},
   "outputs": [
    {
     "name": "stdout",
     "output_type": "stream",
     "text": [
      "Confusion matrix, without normalization\n",
      "[[7 0 0 0 0]\n",
      " [7 1 2 0 3]\n",
      " [3 1 1 0 1]\n",
      " [6 0 3 0 2]\n",
      " [2 1 1 0 1]]\n"
     ]
    },
    {
     "data": {
      "image/png": "[encoded data removed]",
      "text/plain": [
       "<matplotlib.figure.Figure at 0x7fcab2a4ecf8>"
      ]
     },
     "metadata": {},
     "output_type": "display_data"
    }
   ],
   "source": [
    "plot_title = 'Confusion matrix of RNN'\n",
    "plt.figure()\n",
    "plot_confusion_matrix(confusionMatrixs[1], classes=CLASSES, title=plot_title)"
   ]
  },
  {
   "cell_type": "code",
   "execution_count": 33,
   "metadata": {},
   "outputs": [
    {
     "name": "stdout",
     "output_type": "stream",
     "text": [
      "Confusion matrix, without normalization\n",
      "[[7 0 0 0 0]\n",
      " [7 2 0 3 1]\n",
      " [3 0 3 0 0]\n",
      " [6 0 1 2 2]\n",
      " [2 1 1 0 1]]\n"
     ]
    },
    {
     "data": {
      "image/png": "[encoded data removed]",
      "text/plain": [
       "<matplotlib.figure.Figure at 0x7fcaa60d3fd0>"
      ]
     },
     "metadata": {},
     "output_type": "display_data"
    }
   ],
   "source": [
    "plot_title = 'Confusion matrix of RNN'\n",
    "plt.figure()\n",
    "plot_confusion_matrix(confusionMatrixs[2], classes=CLASSES, title=plot_title)"
   ]
  },
  {
   "cell_type": "code",
   "execution_count": 34,
   "metadata": {},
   "outputs": [
    {
     "name": "stdout",
     "output_type": "stream",
     "text": [
      "Confusion matrix, without normalization\n",
      "[[7 0 0 0 0]\n",
      " [7 1 5 0 0]\n",
      " [3 0 3 0 0]\n",
      " [6 0 5 0 0]\n",
      " [2 0 3 0 0]]\n"
     ]
    },
    {
     "data": {
      "image/png": "[encoded data removed]",
      "text/plain": [
       "<matplotlib.figure.Figure at 0x7fcaa6021e10>"
      ]
     },
     "metadata": {},
     "output_type": "display_data"
    }
   ],
   "source": [
    "plot_title = 'Confusion matrix of RNN'\n",
    "plt.figure()\n",
    "plot_confusion_matrix(confusionMatrixs[3], classes=CLASSES, title=plot_title)"
   ]
  },
  {
   "cell_type": "code",
   "execution_count": 35,
   "metadata": {},
   "outputs": [
    {
     "name": "stdout",
     "output_type": "stream",
     "text": [
      "Confusion matrix, without normalization\n",
      "[[7 0 0 0 0]\n",
      " [7 1 1 0 4]\n",
      " [3 0 1 0 2]\n",
      " [6 0 1 0 4]\n",
      " [2 0 0 0 3]]\n"
     ]
    },
    {
     "data": {
      "image/png": "[encoded data removed]",
      "text/plain": [
       "<matplotlib.figure.Figure at 0x7fcaa5f6c668>"
      ]
     },
     "metadata": {},
     "output_type": "display_data"
    }
   ],
   "source": [
    "plot_title = 'Confusion matrix of RNN'\n",
    "plt.figure()\n",
    "plot_confusion_matrix(confusionMatrixs[4], classes=CLASSES, title=plot_title)"
   ]
  },
  {
   "cell_type": "code",
   "execution_count": 36,
   "metadata": {},
   "outputs": [
    {
     "name": "stdout",
     "output_type": "stream",
     "text": [
      "Confusion matrix, without normalization\n",
      "[[7 0 0 0 0]\n",
      " [7 1 2 0 3]\n",
      " [3 0 2 0 1]\n",
      " [6 0 2 1 2]\n",
      " [2 0 3 0 0]]\n"
     ]
    },
    {
     "data": {
      "image/png": "[encoded data removed]",
      "text/plain": [
       "<matplotlib.figure.Figure at 0x7fcaa5ea5b38>"
      ]
     },
     "metadata": {},
     "output_type": "display_data"
    }
   ],
   "source": [
    "plot_title = 'Confusion matrix of RNN'\n",
    "plt.figure()\n",
    "plot_confusion_matrix(confusionMatrixs[5], classes=CLASSES, title=plot_title)"
   ]
  },
  {
   "cell_type": "code",
   "execution_count": 37,
   "metadata": {},
   "outputs": [
    {
     "name": "stdout",
     "output_type": "stream",
     "text": [
      "Confusion matrix, without normalization\n",
      "[[7 0 0 0 0]\n",
      " [7 1 2 2 1]\n",
      " [3 0 2 0 1]\n",
      " [6 0 3 1 1]\n",
      " [2 0 2 0 1]]\n"
     ]
    },
    {
     "data": {
      "image/png": "[encoded data removed]",
      "text/plain": [
       "<matplotlib.figure.Figure at 0x7fcaa5de5470>"
      ]
     },
     "metadata": {},
     "output_type": "display_data"
    }
   ],
   "source": [
    "plot_title = 'Confusion matrix of RNN'\n",
    "plt.figure()\n",
    "plot_confusion_matrix(confusionMatrixs[6], classes=CLASSES, title=plot_title)"
   ]
  },
  {
   "cell_type": "code",
   "execution_count": 38,
   "metadata": {},
   "outputs": [
    {
     "name": "stdout",
     "output_type": "stream",
     "text": [
      "Confusion matrix, without normalization\n",
      "[[7 0 0 0 0]\n",
      " [8 1 1 0 3]\n",
      " [3 0 1 0 2]\n",
      " [7 1 1 0 2]\n",
      " [2 0 2 0 1]]\n"
     ]
    },
    {
     "data": {
      "image/png": "[encoded data removed]",
      "text/plain": [
       "<matplotlib.figure.Figure at 0x7fcaa5d1bc88>"
      ]
     },
     "metadata": {},
     "output_type": "display_data"
    }
   ],
   "source": [
    "plot_title = 'Confusion matrix of RNN'\n",
    "plt.figure()\n",
    "plot_confusion_matrix(confusionMatrixs[7], classes=CLASSES, title=plot_title)"
   ]
  },
  {
   "cell_type": "code",
   "execution_count": null,
   "metadata": {},
   "outputs": [],
   "source": []
  }
 ],
 "metadata": {
  "kernelspec": {
   "display_name": "Python 3",
   "language": "python",
   "name": "python3"
  },
  "language_info": {
   "codemirror_mode": {
    "name": "ipython",
    "version": 3
   },
   "file_extension": ".py",
   "mimetype": "text/x-python",
   "name": "python",
   "nbconvert_exporter": "python",
   "pygments_lexer": "ipython3",
   "version": "3.6.4"
  }
 },
 "nbformat": 4,
 "nbformat_minor": 2
}
